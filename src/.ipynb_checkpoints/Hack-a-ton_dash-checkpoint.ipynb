{
 "cells": [
  {
   "cell_type": "code",
   "execution_count": 1,
   "metadata": {},
   "outputs": [],
   "source": [
    "import pandas as pd \n",
    "import os\n",
    "import plotly.express as px # version ()\n",
    "import plotly.graph_objects as go\n",
    "\n",
    "import dash\n",
    "import dash_core_components as dcc\n",
    "import dash_html_components as html\n",
    "import dash_table\n",
    "from dash.dependencies import Input, Output\n"
   ]
  },
  {
   "cell_type": "markdown",
   "metadata": {},
   "source": [
    "# importing and clean data ( importing csv into pandas)"
   ]
  },
  {
   "cell_type": "code",
   "execution_count": 13,
   "metadata": {},
   "outputs": [],
   "source": [
    "\n",
    "# Set your path to the folder containing the .csv files\n",
    "PATH = '../data/Analysis/' # Use your path\n",
    "\n",
    "# Fetch all files in path\n",
    "fileNames = os.listdir(PATH)\n",
    "\n",
    "# Filter file name list for files ending with .csv\n",
    "fileNames = [file for file in fileNames if '_results.csv' in file]\n",
    "\n",
    "# Loop over all files\n",
    "\n",
    "my_list = []\n",
    "\n",
    "for file in fileNames:\n",
    "# Read .csv file and append to list\n",
    "    df = pd.read_csv(PATH + file, index_col= None, header=0)\n",
    "    df['Name'] = file.replace('_results.csv','')\n",
    "    my_list.append(df)  \n"
   ]
  },
  {
   "cell_type": "code",
   "execution_count": null,
   "metadata": {},
   "outputs": [],
   "source": [
    "energy_con_dataframe = pd.concat(my_list, axis=0, ignore_index=True)\n",
    "energy_con_dataframe = energy_con_dataframe.drop(columns=['obs_ci_lower','obs_ci_upper']).round(1)\n",
    "energy_con_dataframe.reset_index(inplace=True)"
   ]
  },
  {
   "cell_type": "code",
   "execution_count": 15,
   "metadata": {},
   "outputs": [],
   "source": [
    "energy_con_dataframe['Datetime'] = pd.to_datetime(energy_con_dataframe['Datetime'], utc=True, errors='ignore')\n"
   ]
  },
  {
   "cell_type": "code",
   "execution_count": 18,
   "metadata": {},
   "outputs": [],
   "source": [
    "energy_con_dataframe['year'] = energy_con_dataframe.Datetime.dt.year\n",
    "energy_con_dataframe['month'] = energy_con_dataframe.Datetime.dt.month\n",
    "energy_con_dataframe['days'] = energy_con_dataframe.Datetime.dt.day"
   ]
  },
  {
   "cell_type": "code",
   "execution_count": null,
   "metadata": {},
   "outputs": [],
   "source": []
  },
  {
   "cell_type": "markdown",
   "metadata": {},
   "source": [
    "## Cleaning up data and creating lables for graphing"
   ]
  },
  {
   "cell_type": "code",
   "execution_count": null,
   "metadata": {},
   "outputs": [],
   "source": [
    "Name = energy_con_dataframe['Name']\n",
    "yearly = energy_con_dataframe('year').unique()\n",
    "mothly = energy_con_dataframe['month']\n",
    "daily = energy_con_dataframe['days']\n",
    "actual = energy_con_dataframe['Actual']\n",
    "predict = energy_con_dataframe['Predicted']\n"
   ]
  },
  {
   "cell_type": "markdown",
   "metadata": {},
   "source": [
    "# App Layout"
   ]
  },
  {
   "cell_type": "code",
   "execution_count": 31,
   "metadata": {},
   "outputs": [],
   "source": [
    "app = dash.Dash(__name__)\n",
    "\n",
    "app.layout = html.Div([\n",
    "    html.H1(children = 'UNCG Engergy Consumptions',\n",
    "           style={\n",
    "               'textAlign' : 'center',\n",
    "               'color' : '#456FBV'\n",
    "           }),\n",
    "    html.Div(children='funded by Green Fund',\n",
    "            style={\n",
    "                'textAlign' : 'center',\n",
    "                'color' : '#456FBV'\n",
    "            }),\n",
    "    \n",
    "    dcc.Graph(\n",
    "        id='overall-consumption-graph',\n",
    "        figure={\n",
    "            'data': [\n",
    "                {'x': yearly, 'y':actual.mean(), 'type': 'bar', 'name': 'Actual'},\n",
    "                {'x': yearly, 'y': predict.mean(), 'type': 'bar', 'name': u'Predicted'},\n",
    "            ],\n",
    "            'layout': {\n",
    "                'title': 'Dash Data Visualization'\n",
    "            }\n",
    "        }\n",
    "    )\n",
    "])"
   ]
  },
  {
   "cell_type": "markdown",
   "metadata": {},
   "source": [
    "<!-- # mgr_options = energy_con_dataframe[\"Name\"].unique()\n",
    "\n",
    "# app = dash.Dash()\n",
    "\n",
    "# app.layout = html.Div([\n",
    "#     html.H2(\"Sales Funnel Report\"),\n",
    "#     html.Div(\n",
    "#         [\n",
    "#             dcc.Dropdown(\n",
    "#                 id=\"Name\",\n",
    "#                 options=[{\n",
    "#                     'label': i,\n",
    "#                     'value': i\n",
    "#                 } for i in mgr_options],\n",
    "#                 value='All Managers'),\n",
    "#         ],\n",
    "#         style={'width': '25%',\n",
    "#                'display': 'inline-block'}),\n",
    "#     dcc.Graph(id='funnel-graph'),\n",
    "# ])\n",
    "\n",
    "\n",
    "# @app.callback(\n",
    "#     dash.dependencies.Output('funnel-graph', 'figure'),\n",
    "#     [dash.dependencies.Input('Name', 'value')])\n",
    "# def update_graph(Manager):\n",
    "#     if Manager == \"All Managers\":\n",
    "#         df_plot = df.copy()\n",
    "#     else:\n",
    "#         df_plot = df[df['Name'] == Manager]\n",
    "\n",
    "#     pv = pd.pivot_table(\n",
    "#         df_plot,\n",
    "#         index=['Name'],\n",
    "#         columns=[\"Datetime\"],\n",
    "#         values=['Actual'],\n",
    "#         aggfunc=sum,\n",
    "#         fill_value=0)\n",
    "\n",
    "#     trace1 = go.Bar(x=pv.index, y=pv[('Quantity', 'declined')], name='Declined')\n",
    "#     trace2 = go.Bar(x=pv.index, y=pv[('Quantity', 'pending')], name='Pending')\n",
    "#     trace3 = go.Bar(x=pv.index, y=pv[('Quantity', 'presented')], name='Presented')\n",
    "#     trace4 = go.Bar(x=pv.index, y=pv[('Quantity', 'won')], name='Won')\n",
    "\n",
    "#     return {\n",
    "#         'data': [trace1, trace2, trace3, trace4],\n",
    "#         'layout':\n",
    "#         go.Layout(\n",
    "#             title='Customer Order Status for {}'.format(Manager),\n",
    "#             barmode='stack')\n",
    "#     }\n",
    " -->"
   ]
  },
  {
   "cell_type": "code",
   "execution_count": null,
   "metadata": {},
   "outputs": [
    {
     "name": "stdout",
     "output_type": "stream",
     "text": [
      "Dash is running on http://127.0.0.1:8050/\n",
      "\n",
      "Dash is running on http://127.0.0.1:8050/\n",
      "\n",
      "Dash is running on http://127.0.0.1:8050/\n",
      "\n",
      "Dash is running on http://127.0.0.1:8050/\n",
      "\n",
      " * Serving Flask app \"__main__\" (lazy loading)\n",
      " * Environment: production\n",
      "\u001b[31m   WARNING: This is a development server. Do not use it in a production deployment.\u001b[0m\n",
      "\u001b[2m   Use a production WSGI server instead.\u001b[0m\n",
      " * Debug mode: off\n"
     ]
    },
    {
     "name": "stderr",
     "output_type": "stream",
     "text": [
      " * Running on http://127.0.0.1:8050/ (Press CTRL+C to quit)\n",
      "127.0.0.1 - - [27/Nov/2020 02:48:46] \"\u001b[37mGET / HTTP/1.1\u001b[0m\" 200 -\n",
      "127.0.0.1 - - [27/Nov/2020 02:48:48] \"\u001b[37mGET /_dash-dependencies HTTP/1.1\u001b[0m\" 200 -\n",
      "127.0.0.1 - - [27/Nov/2020 02:48:56] \"\u001b[37mGET /_favicon.ico?v=1.17.0 HTTP/1.1\u001b[0m\" 200 -\n",
      "127.0.0.1 - - [27/Nov/2020 02:49:10] \"\u001b[37mGET /_dash-layout HTTP/1.1\u001b[0m\" 200 -\n"
     ]
    }
   ],
   "source": [
    "if __name__ == '__main__':\n",
    "    app.run_server(debug=False)"
   ]
  },
  {
   "cell_type": "code",
   "execution_count": null,
   "metadata": {},
   "outputs": [],
   "source": []
  }
 ],
 "metadata": {
  "kernelspec": {
   "display_name": "Python 3",
   "language": "python",
   "name": "python3"
  },
  "language_info": {
   "codemirror_mode": {
    "name": "ipython",
    "version": 3
   },
   "file_extension": ".py",
   "mimetype": "text/x-python",
   "name": "python",
   "nbconvert_exporter": "python",
   "pygments_lexer": "ipython3",
   "version": "3.8.3"
  }
 },
 "nbformat": 4,
 "nbformat_minor": 4
}
